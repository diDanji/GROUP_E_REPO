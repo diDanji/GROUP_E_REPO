{
 "cells": [
  {
   "cell_type": "markdown",
   "id": "b4242a90",
   "metadata": {},
   "source": [
    "lab 2 about class, objects and methods"
   ]
  },
  {
   "cell_type": "code",
   "execution_count": null,
   "id": "33880685",
   "metadata": {},
   "outputs": [],
   "source": [
    "#calculating for remaining account balance       \n",
    "class BankAcccount:\n",
    "            def __init__(self, balance):\n",
    "                self.balance = balance\n",
    "                \n",
    "            def deposit(self, amount):\n",
    "                self.balance += amount\n",
    "                \n",
    "            def withdraw(self, amount):\n",
    "                self.balance  -= amount\n",
    "                \n",
    "        \n",
    "account = BankAcccount(1000)\n",
    "account.deposit(500)\n",
    "account.withdraw(200)\n",
    "print(account.balance)\n",
    "        \n",
    "        "
   ]
  },
  {
   "cell_type": "markdown",
   "id": "01c2f24e",
   "metadata": {},
   "source": [
    "Real life analogy"
   ]
  },
  {
   "cell_type": "code",
   "execution_count": null,
   "id": "b359b3da",
   "metadata": {},
   "outputs": [],
   "source": [
    "class Phone:\n",
    "    def _init_ (self, brand, storage) :\n",
    "        self.brand = brand\n",
    "        self.storage = storage\n",
    "        \n",
    "    def call(self, number):\n",
    "        print (f'Calling {number} from {self.brand}!')\n",
    "        \n",
    "    def take_photo(self):\n",
    "        print (f \"{self.brand} is taking a photo!\")\n",
    "        \n",
    "    def song(self, song):\n",
    "        print (f'Playing {song}!')\n",
    "        \n",
    "                  \n",
    "my_phone = Phone(\"Apple\", '128GB')\n",
    "my_phone.call(\"123-456-7890\")\n",
    "my_phone.song(\"count me out\")\n"
   ]
  },
  {
   "cell_type": "markdown",
   "id": "c2ad5881",
   "metadata": {},
   "source": [
    "hostel visit block "
   ]
  },
  {
   "cell_type": "code",
   "execution_count": null,
   "id": "54c28414",
   "metadata": {},
   "outputs": [],
   "source": [
    "class Hostel:\n",
    "    def __init__(self, name, location):\n",
    "        self.name = name\n",
    "        self.location = location\n",
    "        self.residents = []\n",
    "        self.visitors = []\n",
    "\n",
    "    def add_resident(self, resident):\n",
    "        self.residents.append(resident)\n",
    "\n",
    "    def add_visitor(self, visitor):\n",
    "        self.visitors.append(visitor)\n",
    "\n",
    "    def show_residents(self):\n",
    "        print(f\"Residents in {self.name}:\")\n",
    "        for r in self.residents:\n",
    "            print(f\"- {r.name} ({r.room_number})\")\n",
    "\n",
    "    def show_visitors(self):\n",
    "        print(f\"Visitors to {self.name}:\")\n",
    "        for v in self.visitors:\n",
    "            print(f\"- {v.name}, visited {v.visit_date}\")\n",
    "\n",
    "class Resident:\n",
    "    def __init__(self, name, room_number):\n",
    "        self.name = name\n",
    "        self.room_number = room_number\n",
    "\n",
    "class Visitor:\n",
    "    def __init__(self, name, visit_date):\n",
    "        self.name = name\n",
    "        self.visit_date = visit_date\n",
    "\n",
    "# Example usage\n",
    "hostel = Hostel(\"Excel hostel\", \"Kauga\")\n",
    "\n",
    "# Add residents\n",
    "resident1 = Resident(\"Amos\", \"101\")\n",
    "resident2 = Resident(\"Emma\", \"102\")\n",
    "hostel.add_resident(resident1)\n",
    "hostel.add_resident(resident2)\n",
    "\n",
    "# Add visitors\n",
    "visitor1 = Visitor(\"Charlie\", \"2025-09-22\")\n",
    "visitor2 = Visitor(\"Diana\", \"2025-09-21\")\n",
    "hostel.add_visitor(visitor1)\n",
    "hostel.add_visitor(visitor2)\n",
    "\n",
    "# Display records\n",
    "hostel.show_residents()\n",
    "hostel.show_visitors()"
   ]
  },
  {
   "cell_type": "markdown",
   "id": "0df4e17f",
   "metadata": {},
   "source": [
    "Lab 3\n"
   ]
  },
  {
   "cell_type": "markdown",
   "id": "4dcc8e43",
   "metadata": {},
   "source": []
  },
  {
   "cell_type": "code",
   "execution_count": null,
   "id": "bccc6ceb",
   "metadata": {},
   "outputs": [],
   "source": [
    "class Student:\n",
    "    def _init_(self, name):\n",
    "        self.name = name        # public\n",
    "        self._gpa = 3.5         # protected\n",
    "        self._password = \"1234\" # private\n",
    "        \n",
    "student1 = Student(\"Tonny\")\n",
    "print(student1.name)\n",
    "        "
   ]
  }
 ],
 "metadata": {
  "language_info": {
   "name": "python"
  }
 },
 "nbformat": 4,
 "nbformat_minor": 5
}
